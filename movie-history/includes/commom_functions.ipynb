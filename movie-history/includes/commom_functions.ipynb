{
 "cells": [
  {
   "cell_type": "code",
   "execution_count": 0,
   "metadata": {
    "application/vnd.databricks.v1+cell": {
     "cellMetadata": {
      "byteLimit": 2048000,
      "rowLimit": 10000
     },
     "inputWidgets": {},
     "nuid": "da49200c-60a0-4f56-a912-4680a3b56a98",
     "showTitle": false,
     "tableResultSettingsMap": {},
     "title": ""
    }
   },
   "outputs": [],
   "source": [
    "\n",
    "def overwrite_partition(input_df,db_name,table_name,column_partition):\n",
    "    for item_list in input_df.select(f\"{column_partition}\").distinct().collect():\n",
    "        if (spark._jsparkSession.catalog().tableExists(f\"{db_name}.{table_name}\")):\n",
    "            spark.sql(f\"ALTER TABLE {db_name}.{table_name} DROP IF EXISTS PARTITION ({column_partition}='{item_list[column_partition]}')\")"
   ]
  }
 ],
 "metadata": {
  "application/vnd.databricks.v1+notebook": {
   "computePreferences": null,
   "dashboards": [],
   "environmentMetadata": {
    "base_environment": "",
    "environment_version": "2"
   },
   "inputWidgetPreferences": null,
   "language": "python",
   "notebookMetadata": {
    "pythonIndentUnit": 4
   },
   "notebookName": "commom_functions",
   "widgets": {}
  },
  "language_info": {
   "name": "python"
  }
 },
 "nbformat": 4,
 "nbformat_minor": 0
}
