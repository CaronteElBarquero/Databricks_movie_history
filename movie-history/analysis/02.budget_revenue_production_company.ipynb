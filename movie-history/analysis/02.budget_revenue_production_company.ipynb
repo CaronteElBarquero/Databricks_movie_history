{
 "cells": [
  {
   "cell_type": "markdown",
   "metadata": {
    "application/vnd.databricks.v1+cell": {
     "cellMetadata": {},
     "inputWidgets": {},
     "nuid": "69905aee-07b6-44cb-a59a-c001ae431167",
     "showTitle": false,
     "tableResultSettingsMap": {},
     "title": ""
    }
   },
   "source": [
    "### pipipi\n"
   ]
  },
  {
   "cell_type": "code",
   "execution_count": 0,
   "metadata": {
    "application/vnd.databricks.v1+cell": {
     "cellMetadata": {
      "byteLimit": 2048000,
      "rowLimit": 10000
     },
     "inputWidgets": {},
     "nuid": "ee6dacf8-ab26-41e5-a432-5cd36bb528ce",
     "showTitle": false,
     "tableResultSettingsMap": {},
     "title": ""
    }
   },
   "outputs": [],
   "source": [
    "use movie_gold;"
   ]
  },
  {
   "cell_type": "code",
   "execution_count": 0,
   "metadata": {
    "application/vnd.databricks.v1+cell": {
     "cellMetadata": {
      "byteLimit": 2048000,
      "rowLimit": 10000
     },
     "inputWidgets": {},
     "nuid": "5f06faa4-62ed-48bc-853f-c0609a36bed4",
     "showTitle": false,
     "tableResultSettingsMap": {},
     "title": ""
    }
   },
   "outputs": [],
   "source": [
    "select company_name, count(company_name) as total_company_name, sum(budget) as total_budget,\n",
    "cast(avg(budget) as decimal(18,2)) as avg_budget, sum(revenue) as total_revenue, cast(avg(revenue) as decimal(18,2)) as avg_revenue \n",
    "from results_movie\n",
    "group by company_name\n",
    "order by total_revenue desc;"
   ]
  },
  {
   "cell_type": "code",
   "execution_count": 0,
   "metadata": {
    "application/vnd.databricks.v1+cell": {
     "cellMetadata": {
      "byteLimit": 2048000,
      "rowLimit": 10000
     },
     "inputWidgets": {},
     "nuid": "b8ee4f1b-6886-4f5f-b482-38707d183082",
     "showTitle": false,
     "tableResultSettingsMap": {},
     "title": ""
    }
   },
   "outputs": [],
   "source": [
    "select company_name, count(company_name) as total_company_name, sum(budget) as total_budget,\n",
    "cast(avg(budget) as decimal(18,2)) as avg_budget, sum(revenue) as total_revenue, cast(avg(revenue) as decimal(18,2)) as avg_revenue \n",
    "from results_movie\n",
    "where year_release_date between 2010 and 2015\n",
    "group by company_name\n",
    "order by total_revenue desc;"
   ]
  }
 ],
 "metadata": {
  "application/vnd.databricks.v1+notebook": {
   "computePreferences": null,
   "dashboards": [],
   "environmentMetadata": {
    "base_environment": "",
    "environment_version": "2"
   },
   "inputWidgetPreferences": null,
   "language": "sql",
   "notebookMetadata": {
    "pythonIndentUnit": 4
   },
   "notebookName": "02.budget_revenue_production_company",
   "widgets": {}
  },
  "language_info": {
   "name": "sql"
  }
 },
 "nbformat": 4,
 "nbformat_minor": 0
}
